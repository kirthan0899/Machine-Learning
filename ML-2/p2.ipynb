{
 "cells": [
  {
   "cell_type": "code",
   "execution_count": 1,
   "metadata": {},
   "outputs": [],
   "source": [
    "#linear algebra"
   ]
  },
  {
   "cell_type": "code",
   "execution_count": 2,
   "metadata": {},
   "outputs": [
    {
     "name": "stdout",
     "output_type": "stream",
     "text": [
      "[[1. 2.]\n",
      " [3. 4.]]\n",
      "[[1. 3.]\n",
      " [2. 4.]]\n",
      "[[-2.   1. ]\n",
      " [ 1.5 -0.5]]\n"
     ]
    }
   ],
   "source": [
    "from numpy import *\n",
    "from numpy.linalg import *\n",
    "a = array([[1.0,2.0],[3.0,4.0]])\n",
    "print(a)\n",
    "print(a.transpose())\n",
    "print(inv(a))"
   ]
  },
  {
   "cell_type": "code",
   "execution_count": 3,
   "metadata": {},
   "outputs": [
    {
     "name": "stdout",
     "output_type": "stream",
     "text": [
      "[[1. 0.]\n",
      " [0. 1.]]\n"
     ]
    }
   ],
   "source": [
    "u=eye(2) #identity matrix (unit 2x2 matrix) \"eye\" represents \"I\"\n",
    "print(u)"
   ]
  },
  {
   "cell_type": "code",
   "execution_count": 4,
   "metadata": {},
   "outputs": [
    {
     "name": "stdout",
     "output_type": "stream",
     "text": [
      "[[-1.  0.]\n",
      " [ 0. -1.]]\n"
     ]
    }
   ],
   "source": [
    "j=array([[0.0,-1.0],[1.0,0.0]])\n",
    "print(dot(j,j)) # matrix product"
   ]
  },
  {
   "cell_type": "code",
   "execution_count": 5,
   "metadata": {},
   "outputs": [
    {
     "data": {
      "text/plain": [
       "2.0"
      ]
     },
     "execution_count": 5,
     "metadata": {},
     "output_type": "execute_result"
    }
   ],
   "source": [
    "u=eye(2)\n",
    "trace(u)"
   ]
  },
  {
   "cell_type": "code",
   "execution_count": 8,
   "metadata": {},
   "outputs": [
    {
     "data": {
      "text/plain": [
       "array([[-3.],\n",
       "       [ 4.]])"
      ]
     },
     "execution_count": 8,
     "metadata": {},
     "output_type": "execute_result"
    }
   ],
   "source": [
    "y=array([[5.],[7.]])\n",
    "a = array([[1.0,2.0],[3.0,4.0]])\n",
    "solve(a,y) # solve linear matrix equation"
   ]
  },
  {
   "cell_type": "code",
   "execution_count": 7,
   "metadata": {},
   "outputs": [
    {
     "name": "stdout",
     "output_type": "stream",
     "text": [
      "[[-1.  0.]\n",
      " [ 0. -1.]]\n"
     ]
    },
    {
     "data": {
      "text/plain": [
       "(array([0.+1.j, 0.-1.j]),\n",
       " array([[0.70710678+0.j        , 0.70710678-0.j        ],\n",
       "        [0.        -0.70710678j, 0.        +0.70710678j]]))"
      ]
     },
     "execution_count": 7,
     "metadata": {},
     "output_type": "execute_result"
    }
   ],
   "source": [
    "j=array([[0.0,-1.0],[1.0,0.0]])\n",
    "print(dot(j,j))\n",
    "eig(j)\n"
   ]
  },
  {
   "cell_type": "code",
   "execution_count": 17,
   "metadata": {},
   "outputs": [
    {
     "name": "stdout",
     "output_type": "stream",
     "text": [
      "[[1. 2.]\n",
      " [3. 4.]]\n",
      "<class 'numpy.matrix'>\n",
      "[[1. 3.]\n",
      " [2. 4.]]\n",
      "[[19.]\n",
      " [43.]]\n",
      "[[-2.   1. ]\n",
      " [ 1.5 -0.5]]\n",
      "[[-3.]\n",
      " [ 4.]]\n"
     ]
    }
   ],
   "source": [
    "A=matrix('1.0 2.0; 3.0 4.0')\n",
    "print(A)\n",
    "print(type(A))\n",
    "print(A.T)\n",
    "X=matrix('5.0 7.0')\n",
    "Y=X.T\n",
    "\n",
    "print(A*Y) # product\n",
    "print(A.I) # inverse of a matrix\n",
    "print(solve(A,Y))"
   ]
  },
  {
   "cell_type": "code",
   "execution_count": null,
   "metadata": {},
   "outputs": [],
   "source": []
  }
 ],
 "metadata": {
  "kernelspec": {
   "display_name": "Python 3",
   "language": "python",
   "name": "python3"
  },
  "language_info": {
   "codemirror_mode": {
    "name": "ipython",
    "version": 3
   },
   "file_extension": ".py",
   "mimetype": "text/x-python",
   "name": "python",
   "nbconvert_exporter": "python",
   "pygments_lexer": "ipython3",
   "version": "3.7.3"
  }
 },
 "nbformat": 4,
 "nbformat_minor": 2
}
