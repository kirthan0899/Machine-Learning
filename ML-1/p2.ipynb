{
 "cells": [
  {
   "cell_type": "code",
   "execution_count": 2,
   "metadata": {},
   "outputs": [
    {
     "name": "stdout",
     "output_type": "stream",
     "text": [
      "[[1 2 3]\n",
      " [4 5 6]]\n",
      "\n",
      "[ 1.  2.  3.]\n"
     ]
    }
   ],
   "source": [
    "import numpy as np\n",
    "\n",
    "A = np.array([[1,2,3],[4,5,6]])\n",
    "print(A)\n",
    "\n",
    "print()\n",
    "\n",
    "Af = np.array([1,2,3],float)\n",
    "print(Af)"
   ]
  },
  {
   "cell_type": "code",
   "execution_count": 11,
   "metadata": {},
   "outputs": [
    {
     "name": "stdout",
     "output_type": "stream",
     "text": [
      "[ 0.   0.3  0.6  0.9  1.2  1.5  1.8]\n",
      "[ 0.          1.25663706  2.51327412  3.76991118  5.02654825  6.28318531]\n",
      "[[ 0.  0.  0.]\n",
      " [ 0.  0.  0.]]\n",
      "(2, 3)\n"
     ]
    }
   ],
   "source": [
    "print(np.arange(0,2,0.3))\n",
    "\n",
    "print(np.linspace(0,2*np.pi,6))\n",
    "\n",
    "A = np.zeros((2,3))\n",
    "print(A)\n",
    "\n",
    "print(A.shape)\n",
    "\n",
    "# default is float"
   ]
  },
  {
   "cell_type": "code",
   "execution_count": 16,
   "metadata": {},
   "outputs": [
    {
     "name": "stdout",
     "output_type": "stream",
     "text": [
      "[0 2 4 6 8]\n",
      "[  0.           1.11111111   2.22222222   3.33333333   4.44444444\n",
      "   5.55555556   6.66666667   7.77777778   8.88888889  10.        ]\n"
     ]
    }
   ],
   "source": [
    "print(np.arange(0,10,2))\n",
    "\n",
    "print(np.linspace(0,10,10))"
   ]
  },
  {
   "cell_type": "code",
   "execution_count": 23,
   "metadata": {},
   "outputs": [
    {
     "name": "stdout",
     "output_type": "stream",
     "text": [
      "[[ 1.  1.  1.]\n",
      " [ 1.  1.  1.]]\n"
     ]
    },
    {
     "data": {
      "text/plain": [
       "(2, 3)"
      ]
     },
     "execution_count": 23,
     "metadata": {},
     "output_type": "execute_result"
    }
   ],
   "source": [
    "A = np.ones((2,3))\n",
    "print(A)\n",
    "\n",
    "A.shape"
   ]
  },
  {
   "cell_type": "code",
   "execution_count": 28,
   "metadata": {},
   "outputs": [
    {
     "data": {
      "text/plain": [
       "array([[ 0.80480417,  0.57224462,  0.98177246],\n",
       "       [ 0.05663251,  0.4865359 ,  0.63969258]])"
      ]
     },
     "execution_count": 28,
     "metadata": {},
     "output_type": "execute_result"
    }
   ],
   "source": [
    "np.random.random((2,3))\n"
   ]
  },
  {
   "cell_type": "code",
   "execution_count": 37,
   "metadata": {},
   "outputs": [
    {
     "name": "stdout",
     "output_type": "stream",
     "text": [
      "[[ 0.  0.]\n",
      " [ 1.  0.]]\n"
     ]
    }
   ],
   "source": [
    "A = np.zeros((2,2))\n",
    "C=A\n",
    "C[1,0]=1\n",
    "print(A)\n",
    "\n",
    "# original matrix will also be changed"
   ]
  },
  {
   "cell_type": "code",
   "execution_count": 40,
   "metadata": {},
   "outputs": [
    {
     "name": "stdout",
     "output_type": "stream",
     "text": [
      "[[ 1.  1.  1.]\n",
      " [ 1.  1.  1.]\n",
      " [ 1.  0.  1.]]\n"
     ]
    }
   ],
   "source": [
    "A = np.ones((3,3))\n",
    "\n",
    "A[2,1]=0\n",
    "\n",
    "print(A)"
   ]
  },
  {
   "cell_type": "code",
   "execution_count": 46,
   "metadata": {},
   "outputs": [
    {
     "name": "stdout",
     "output_type": "stream",
     "text": [
      "[[0 1 2 3 4]\n",
      " [5 6 7 8 9]]\n",
      "2\n",
      "(2, 5)\n",
      "10\n",
      "[[0 5]\n",
      " [1 6]\n",
      " [2 7]\n",
      " [3 8]\n",
      " [4 9]]\n",
      "int32\n"
     ]
    }
   ],
   "source": [
    "a = np.arange(10).reshape((2,5))\n",
    "print(a)\n",
    "\n",
    "print(a.ndim)\n",
    "print(a.shape)\n",
    "print(a.size)\n",
    "print(a.T)\n",
    "print(a.dtype)"
   ]
  },
  {
   "cell_type": "code",
   "execution_count": 49,
   "metadata": {},
   "outputs": [
    {
     "name": "stdout",
     "output_type": "stream",
     "text": [
      "[0 1 2 3]\n",
      "[2 3 2 4]\n",
      "[ 0  3  4 12]\n",
      "[2 2 0 1]\n",
      "[ 0  3  8 15]\n"
     ]
    }
   ],
   "source": [
    "a = np.arange(4)\n",
    "print(a)\n",
    "\n",
    "b = np.array([2,3,2,4])\n",
    "print(b)\n",
    "\n",
    "print(a*b)\n",
    "print(b-a)\n",
    "\n",
    "c = [2,3,4,5]\n",
    "print(a*c)"
   ]
  },
  {
   "cell_type": "code",
   "execution_count": 50,
   "metadata": {},
   "outputs": [
    {
     "name": "stdout",
     "output_type": "stream",
     "text": [
      "[[ 2.  2.  2.]\n",
      " [ 2.  2.  2.]\n",
      " [ 2.  2.  2.]]\n"
     ]
    }
   ],
   "source": [
    "A = np.ones((3,3))\n",
    "\n",
    "print(3*A-1)\n",
    "\n",
    "# array broadcating is one to all"
   ]
  },
  {
   "cell_type": "code",
   "execution_count": 67,
   "metadata": {},
   "outputs": [
    {
     "name": "stdout",
     "output_type": "stream",
     "text": [
      "[[ 0.22154006  0.49589869  0.65050269]\n",
      " [ 0.72763543  0.0289097   0.37170938]\n",
      " [ 0.4000183   0.11293812  0.57366507]]\n",
      "[[-0.33537983  0.48769608  0.95150807]\n",
      " [ 1.18290629 -0.91327091  0.11512813]\n",
      " [ 0.2000549  -0.66118564  0.72099521]]\n"
     ]
    }
   ],
   "source": [
    "A = np.random.random((3,3))\n",
    "print(A)\n",
    "\n",
    "print(3*A-1)"
   ]
  },
  {
   "cell_type": "code",
   "execution_count": 55,
   "metadata": {
    "collapsed": true
   },
   "outputs": [],
   "source": [
    "# float - 128 bits\n",
    "# int - 64 bits\n",
    "# default float 32\n"
   ]
  },
  {
   "cell_type": "code",
   "execution_count": 62,
   "metadata": {},
   "outputs": [
    {
     "name": "stdout",
     "output_type": "stream",
     "text": [
      "12\n",
      "[[2 4 6]\n",
      " [2 4 6]\n",
      " [2 4 6]]\n",
      "12\n"
     ]
    }
   ],
   "source": [
    "u = [2,2,2]\n",
    "v = [1,2,3]\n",
    "\n",
    "print(np.inner(u,v))\n",
    "\n",
    "print(np.outer(u,v))\n",
    "\n",
    "print(np.dot(u,v))"
   ]
  },
  {
   "cell_type": "code",
   "execution_count": 4,
   "metadata": {},
   "outputs": [
    {
     "name": "stdout",
     "output_type": "stream",
     "text": [
      "[[ 12  30  18]\n",
      " [ 14  32  16]\n",
      " [ 50 122  70]]\n",
      "[[ 2  4  6  8 10 12  8  6  4]\n",
      " [ 2  4  6  8 10 12  8  6  4]\n",
      " [ 2  4  6  8 10 12  8  6  4]\n",
      " [ 1  2  3  4  5  6  4  3  2]\n",
      " [ 2  4  6  8 10 12  8  6  4]\n",
      " [ 3  6  9 12 15 18 12  9  6]\n",
      " [ 7 14 21 28 35 42 28 21 14]\n",
      " [ 8 16 24 32 40 48 32 24 16]\n",
      " [ 9 18 27 36 45 54 36 27 18]]\n",
      "[[18 20 22]\n",
      " [21 21 21]\n",
      " [75 81 87]]\n"
     ]
    }
   ],
   "source": [
    "import numpy as np\n",
    "u = np.array([2,2,2,1,2,3,7,8,9])\n",
    "#print(u.reshape((3,3)))\n",
    "\n",
    "v = np.array([1,2,3,4,5,6,4,3,2])\n",
    "#print(v.reshape((3,3)))\n",
    "\n",
    "print(np.inner(u.reshape((3,3)),v.reshape((3,3))))\n",
    "\n",
    "print(np.outer(u.reshape((3,3)),v.reshape((3,3))))\n",
    "\n",
    "print(np.dot(u.reshape((3,3)),v.reshape((3,3))))"
   ]
  },
  {
   "cell_type": "code",
   "execution_count": null,
   "metadata": {
    "collapsed": true
   },
   "outputs": [],
   "source": []
  }
 ],
 "metadata": {
  "kernelspec": {
   "display_name": "Python 3",
   "language": "python",
   "name": "python3"
  },
  "language_info": {
   "codemirror_mode": {
    "name": "ipython",
    "version": 3
   },
   "file_extension": ".py",
   "mimetype": "text/x-python",
   "name": "python",
   "nbconvert_exporter": "python",
   "pygments_lexer": "ipython3",
   "version": "3.7.3"
  }
 },
 "nbformat": 4,
 "nbformat_minor": 2
}
