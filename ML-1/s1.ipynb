{
 "cells": [
  {
   "cell_type": "code",
   "execution_count": 9,
   "metadata": {},
   "outputs": [
    {
     "name": "stdout",
     "output_type": "stream",
     "text": [
      "Enter the co-efficients :1 2 1\n",
      "Roots are real and equal\n",
      "Roots are x1=x2=-1.0\n"
     ]
    }
   ],
   "source": [
    "import math\n",
    "a,b,c=input(\"Enter the co-efficients :\").split()\n",
    "a,b,c=float(a),float(b),float(c)\n",
    "\n",
    "d=(b**2)-(4*a*c)\n",
    "\n",
    "if(d==0):\n",
    "    print(\"Roots are real and equal\")\n",
    "    x1=(-b)/(2*a)\n",
    "    print(\"Roots are x1=x2={}\".format(x1))\n",
    "    \n",
    "elif(d>0):\n",
    "    print(\"Roots are real and distinct\")\n",
    "    x1=((-b)+math.sqrt(d))/(2*a)\n",
    "    x2=((-b)-math.sqrt(d))/(2*a)\n",
    "    print(\"Roots are x1={} and x2={}\".format(x1,x2))\n",
    "    \n",
    "else:\n",
    "    print(\"Roots are imaginary\")\n",
    "    x1=(-b)/(2*a)\n",
    "    x2=math.sqrt(-d)/(2*a)\n",
    "    r1=complex(x1,x2)\n",
    "    r2=complex(x1,-x2)\n",
    "    print(\"Roots are x1={} and x2={}\".format(r1,r2))\n",
    "    \n"
   ]
  },
  {
   "cell_type": "code",
   "execution_count": null,
   "metadata": {},
   "outputs": [],
   "source": []
  }
 ],
 "metadata": {
  "kernelspec": {
   "display_name": "Python 3",
   "language": "python",
   "name": "python3"
  },
  "language_info": {
   "codemirror_mode": {
    "name": "ipython",
    "version": 3
   },
   "file_extension": ".py",
   "mimetype": "text/x-python",
   "name": "python",
   "nbconvert_exporter": "python",
   "pygments_lexer": "ipython3",
   "version": "3.7.3"
  }
 },
 "nbformat": 4,
 "nbformat_minor": 2
}
